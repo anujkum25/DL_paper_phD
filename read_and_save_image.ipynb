{
 "cells": [
  {
   "cell_type": "code",
   "execution_count": 17,
   "metadata": {},
   "outputs": [
    {
     "name": "stdout",
     "output_type": "stream",
     "text": [
      "(1488, 2240, 3)\n",
      "(149, 224, 3)\n"
     ]
    },
    {
     "data": {
      "text/plain": [
       "True"
      ]
     },
     "execution_count": 17,
     "metadata": {},
     "output_type": "execute_result"
    }
   ],
   "source": [
    "import cv2\n",
    "out=\"C:\\\\Users\\\\anujq\\\\OneDrive\\\\Documents\\\\Amrita\\\\DL_class\\\\Project\\\\processed_data\\\\\"\n",
    "img=cv2.imread(\"C:\\\\Users\\\\anujq\\\\OneDrive\\\\Documents\\\\Amrita\\\\DL_class\\\\Project\\\\data\\\\20051019_38557_0100_PP.tif\")\n",
    "#cv2.imshow(img)\n",
    "print(img.shape)\n",
    "#img1=img.resize(200,200)\n",
    "img1 = cv2.resize(img, (0, 0), fx = 0.1, fy = 0.1)\n",
    "print(img1.shape)\n",
    "cv2.imwrite(\"C:\\\\Users\\\\anujq\\\\OneDrive\\\\Documents\\\\Amrita\\\\DL_class\\\\Project\\\\processed_data\\\\a1.jpeg\",img1)\n",
    "cv2.imwrite(out+\"a.jpg\", img1)"
   ]
  },
  {
   "cell_type": "code",
   "execution_count": 19,
   "metadata": {},
   "outputs": [
    {
     "ename": "error",
     "evalue": "OpenCV(4.8.1) D:\\a\\opencv-python\\opencv-python\\opencv\\modules\\imgproc\\src\\resize.cpp:4062: error: (-215:Assertion failed) !ssize.empty() in function 'cv::resize'\n",
     "output_type": "error",
     "traceback": [
      "\u001b[1;31m---------------------------------------------------------------------------\u001b[0m",
      "\u001b[1;31merror\u001b[0m                                     Traceback (most recent call last)",
      "\u001b[1;32mUntitled-1.ipynb Cell 2\u001b[0m line \u001b[0;36m6\n\u001b[0;32m      <a href='vscode-notebook-cell:Untitled-1.ipynb?jupyter-notebook#W2sdW50aXRsZWQ%3D?line=3'>4</a>\u001b[0m \u001b[39mfor\u001b[39;00m file \u001b[39min\u001b[39;00m os\u001b[39m.\u001b[39mlistdir(path):\n\u001b[0;32m      <a href='vscode-notebook-cell:Untitled-1.ipynb?jupyter-notebook#W2sdW50aXRsZWQ%3D?line=4'>5</a>\u001b[0m     img\u001b[39m=\u001b[39mcv2\u001b[39m.\u001b[39mimread(path\u001b[39m+\u001b[39mfile)\n\u001b[1;32m----> <a href='vscode-notebook-cell:Untitled-1.ipynb?jupyter-notebook#W2sdW50aXRsZWQ%3D?line=5'>6</a>\u001b[0m     img1 \u001b[39m=\u001b[39m cv2\u001b[39m.\u001b[39;49mresize(img, (\u001b[39m0\u001b[39;49m, \u001b[39m0\u001b[39;49m), fx \u001b[39m=\u001b[39;49m \u001b[39m0.1\u001b[39;49m, fy \u001b[39m=\u001b[39;49m \u001b[39m0.1\u001b[39;49m)\n\u001b[0;32m      <a href='vscode-notebook-cell:Untitled-1.ipynb?jupyter-notebook#W2sdW50aXRsZWQ%3D?line=6'>7</a>\u001b[0m     cv2\u001b[39m.\u001b[39mimwrite(out\u001b[39m+\u001b[39mfile\u001b[39m+\u001b[39m\u001b[39m\"\u001b[39m\u001b[39m.jpeg\u001b[39m\u001b[39m\"\u001b[39m,img1)\n",
      "\u001b[1;31merror\u001b[0m: OpenCV(4.8.1) D:\\a\\opencv-python\\opencv-python\\opencv\\modules\\imgproc\\src\\resize.cpp:4062: error: (-215:Assertion failed) !ssize.empty() in function 'cv::resize'\n"
     ]
    }
   ],
   "source": [
    "import os\n",
    "path = \"C:\\\\Users\\\\anujq\\\\OneDrive\\\\Documents\\\\Amrita\\\\DL_class\\\\Project\\\\data\\\\\"\n",
    "out=\"C:\\\\Users\\\\anujq\\\\OneDrive\\\\Documents\\\\Amrita\\\\DL_class\\\\Project\\\\processed_data\\\\\"\n",
    "for file in os.listdir(path):\n",
    "    img=cv2.imread(path+file)\n",
    "    img1 = cv2.resize(img, (0, 0), fx = 0.1, fy = 0.1)\n",
    "    cv2.imwrite(out+file+\".jpeg\",img1)\n",
    "\n"
   ]
  },
  {
   "cell_type": "code",
   "execution_count": null,
   "metadata": {},
   "outputs": [],
   "source": []
  }
 ],
 "metadata": {
  "kernelspec": {
   "display_name": "Python 3",
   "language": "python",
   "name": "python3"
  },
  "language_info": {
   "codemirror_mode": {
    "name": "ipython",
    "version": 3
   },
   "file_extension": ".py",
   "mimetype": "text/x-python",
   "name": "python",
   "nbconvert_exporter": "python",
   "pygments_lexer": "ipython3",
   "version": "3.11.8"
  }
 },
 "nbformat": 4,
 "nbformat_minor": 2
}
